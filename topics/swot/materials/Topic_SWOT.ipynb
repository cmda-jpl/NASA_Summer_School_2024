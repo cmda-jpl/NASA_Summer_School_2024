{
 "cells": [
  {
   "cell_type": "markdown",
   "id": "7b4f519b",
   "metadata": {},
   "source": [
    "# Topic: Human Influences on the Water Cycle\n",
    "\n",
    "_Notebook Author: Cassandra Nickles, NASA Jet Propulsion Laboratory - California Institute of Technology_"
   ]
  },
  {
   "cell_type": "markdown",
   "id": "6fb63a7d",
   "metadata": {},
   "source": [
    "#### Import Packages"
   ]
  },
  {
   "cell_type": "code",
   "execution_count": null,
   "id": "254a5517",
   "metadata": {},
   "outputs": [],
   "source": [
    "import pandas as pd\n",
    "import geopandas as gpd\n",
    "import numpy as np\n",
    "import matplotlib.pyplot as plt\n",
    "\n",
    "pd.set_option('display.max_columns', None) #all columns displayed default"
   ]
  },
  {
   "cell_type": "markdown",
   "id": "5b173535",
   "metadata": {},
   "source": [
    "## Question 1\n",
    "**Often in heavily managed rivers, locks and dams are prevalent, influencing river flow and water surface elevation (WSE). Plot a river profile of WSE over a specified portion of the Mississippi River. Can you pinpoint the location of the dams and locks based on the water surface elevation profiles? How would we expect the longitudinal profile to look without these dams or locks?**\n",
    "\n",
    "Note: This code has been adapted from [The PO.DAAC Cookbook tutorial](https://podaac.github.io/tutorials/notebooks/DataStories/SWOTHR_Science_Application.html) by Arnaud Cerbelaud & Jeffrey Wade. If you want to search and access for data in a different region, the tutorial in the Cookbook explains how to do so using the `earthaccess` Python package."
   ]
  },
  {
   "cell_type": "markdown",
   "id": "f3a25843",
   "metadata": {
    "tags": []
   },
   "source": [
    "### Open Data\n",
    "We will be plotting a River Profile for a portion of the Mississippi River between Minnesota and Wisconsin. The two key SWOT passes for this region are pass numbers 216 and 565, so we access these files from February through July 2024.\n",
    "\n",
    "> These SWOT passes were identified for this region using the [.kmz file](https://podaac.github.io/tutorials/quarto_text/SWOT.html#swot-spatial-coverage) of SWOT passes/swaths imported into Google Earth Pro for visualization\n"
   ]
  },
  {
   "cell_type": "code",
   "execution_count": null,
   "id": "d508eee8",
   "metadata": {},
   "outputs": [],
   "source": [
    "#filenames\n",
    "filename_shps = ['SWOT_L2_HR_RiverSP_Reach_010_216_NA_20240201T164840_20240201T164851_PIC0_01.shp',\n",
    "                 'SWOT_L2_HR_RiverSP_Reach_011_216_NA_20240222T133345_20240222T133356_PIC0_01.shp',\n",
    "                 'SWOT_L2_HR_RiverSP_Reach_013_216_NA_20240404T070741_20240404T070743_PIC0_01.shp',\n",
    "                 'SWOT_L2_HR_RiverSP_Reach_014_216_NA_20240425T034858_20240425T034909_PIC0_01.shp',\n",
    "                 'SWOT_L2_HR_RiverSP_Reach_015_216_NA_20240516T003402_20240516T003413_PIC0_01.shp',\n",
    "                 'SWOT_L2_HR_RiverSP_Reach_016_216_NA_20240605T211908_20240605T211919_PIC0_01.shp',\n",
    "                 'SWOT_L2_HR_RiverSP_Reach_017_216_NA_20240626T180411_20240626T180422_PIC0_01.shp',\n",
    "                 'SWOT_L2_HR_RiverSP_Reach_018_216_NA_20240717T144916_20240717T144927_PIC0_01.shp',\n",
    "                 'SWOT_L2_HR_RiverSP_Reach_010_565_NA_20240214T042609_20240214T042616_PIC0_01.shp',\n",
    "                 'SWOT_L2_HR_RiverSP_Reach_011_565_NA_20240306T011114_20240306T011120_PIC0_01.shp',\n",
    "                 'SWOT_L2_HR_RiverSP_Reach_012_565_NA_20240326T215613_20240326T215624_PIC0_01.shp',\n",
    "                 'SWOT_L2_HR_RiverSP_Reach_014_565_NA_20240507T152627_20240507T152633_PIC0_01.shp',\n",
    "                 'SWOT_L2_HR_RiverSP_Reach_015_565_NA_20240528T121132_20240528T121138_PIC0_01.shp',\n",
    "                 'SWOT_L2_HR_RiverSP_Reach_017_565_NA_20240709T054140_20240709T054146_PIC0_01.shp']\n",
    "\n",
    "#initialize opened list of files\n",
    "SWOT_HR_shps = []\n",
    "\n",
    "# Loop through queried granules to open and stack all acquisition dates\n",
    "for j in range(len(filename_shps)):\n",
    "    SWOT_HR_shps.append(gpd.read_file(f'data_downloads/{filename_shps[j]}')) "
   ]
  },
  {
   "cell_type": "markdown",
   "id": "f57d82e4",
   "metadata": {},
   "source": [
    "#### Aggregate files into dataframe"
   ]
  },
  {
   "cell_type": "code",
   "execution_count": null,
   "id": "37d533ea",
   "metadata": {
    "scrolled": true,
    "tags": []
   },
   "outputs": [],
   "source": [
    "# Combine granules from all acquisition dates into one dataframe\n",
    "SWOT_HR_df = gpd.GeoDataFrame(pd.concat(SWOT_HR_shps, ignore_index=True))\n",
    "\n",
    "# Sort dataframe by reach_id and time\n",
    "SWOT_HR_df = SWOT_HR_df.sort_values(['reach_id', 'time'])\n",
    "\n",
    "SWOT_HR_df"
   ]
  },
  {
   "cell_type": "markdown",
   "id": "d74465f4",
   "metadata": {},
   "source": [
    "\n",
    "\n",
    "### Trace reaches downstream of given starting reach using `rch_id_dn` field for Visualization\n"
   ]
  },
  {
   "cell_type": "markdown",
   "id": "35d6afe8",
   "metadata": {},
   "source": [
    "**First, let's set up a dictionary relating all reaches in the dataset to their downstream neighbor**\n",
    "\n",
    "SWOT River data comes in vector shapefiles with reaches defined as ~10km stretches of rivers. 2If there is a known dam or lock, often that portion of the river is split into its own reach. Explore more on www.swordexplorer"
   ]
  },
  {
   "cell_type": "markdown",
   "id": "2eafd078",
   "metadata": {},
   "source": [
    "_Note: rch_dn_dict[rch_id] gives a list of all the reaches directly downstream from rch_id_"
   ]
  },
  {
   "cell_type": "code",
   "execution_count": null,
   "id": "855848f9",
   "metadata": {
    "scrolled": true,
    "tags": []
   },
   "outputs": [],
   "source": [
    "# Format rch_id_dn for dictionary. Rch_id_dn allows for multiple downstream reaches to be stored\n",
    "# Also removes spaces in attribute field\n",
    "rch_id_dn = [[x.strip() for x in SWOT_HR_df.rch_id_dn[j].split(',')] for j in range(0,len(SWOT_HR_df.rch_id_dn))]\n",
    "\n",
    "# Filter upstream reach ids to remove 'no_data'\n",
    "rch_id_dn_filter = [[x for x in dn_id if x.isnumeric()] for dn_id in rch_id_dn]\n",
    "\n",
    "# Create lookup dictionary for river network topology: Downstream\n",
    "rch_dn_dict = {SWOT_HR_df.reach_id[i]: rch_id_dn_filter[i] for i in range(len(SWOT_HR_df))}"
   ]
  },
  {
   "cell_type": "markdown",
   "id": "8bbe1baa",
   "metadata": {},
   "source": [
    "**Then, starting from a given reach, let's trace all connected downstream reaches**\n",
    "\n",
    "Find the Reach IDs on [www.swordexplorer.com](https://www.swordexplorer.com/)"
   ]
  },
  {
   "cell_type": "code",
   "execution_count": null,
   "id": "a3dcef30",
   "metadata": {
    "scrolled": true,
    "tags": []
   },
   "outputs": [],
   "source": [
    "# Enter reach_id from which we will trace downstream (e.g. upstream most reach of the River for your study region)\n",
    "river = \"Mississippi River\"\n",
    "rch_dn_st = {\"Mississippi River\" : \"74287700141\"\n",
    "            }\n",
    "\n",
    "# Initialize list to store downstream reaches, including starting reach\n",
    "rch_dn_list = [rch_dn_st[river]]\n",
    "# Retrieve first downstream id of starting reach and add to list\n",
    "rch_dn_next = rch_dn_dict[rch_dn_st[river]][0]\n",
    "\n",
    "# Trace next downstream reach until we hit the outlet (or here the last reach on file)\n",
    "while len(rch_dn_next) != 0:\n",
    "    # Add reach to list if value exists\n",
    "    if len(rch_dn_next) != 0:\n",
    "        rch_dn_list.append(rch_dn_next)\n",
    "    # Recursively retrieve first downstream id of next reach\n",
    "    # Catch error if reach isn't in downloaded data\n",
    "    try:\n",
    "        rch_dn_next = rch_dn_dict[rch_dn_next][0]\n",
    "    except:\n",
    "        break"
   ]
  },
  {
   "cell_type": "markdown",
   "id": "6f91f713",
   "metadata": {},
   "source": [
    "**Filter downloaded data by the traced reaches to create a plot**"
   ]
  },
  {
   "cell_type": "code",
   "execution_count": null,
   "id": "addd8d17",
   "metadata": {
    "tags": []
   },
   "outputs": [],
   "source": [
    "# Filter downloaded data by downstream traced reaches\n",
    "SWOT_dn_trace = SWOT_HR_df[SWOT_HR_df.reach_id.isin(rch_dn_list)]\n",
    "\n",
    "# Remove reaches from rch_dn_list that are not present in SWOT data\n",
    "rch_dn_list = [rch for rch in rch_dn_list if rch in SWOT_HR_df.reach_id.values]\n",
    "\n",
    "SWOT_dn_trace[['reach_id','river_name','geometry']].explore('river_name', style_kwds=dict(weight=6))"
   ]
  },
  {
   "cell_type": "markdown",
   "id": "363b77d4",
   "metadata": {},
   "source": [
    "### Plot longitudinal profiles"
   ]
  },
  {
   "cell_type": "markdown",
   "id": "db0b701a",
   "metadata": {},
   "source": [
    "We've visualized the study region, let's create a time series dataframe from the downstream filtered database next to set up to plot a profile of this river."
   ]
  },
  {
   "cell_type": "code",
   "execution_count": null,
   "id": "5234ba62",
   "metadata": {
    "scrolled": true,
    "tags": []
   },
   "outputs": [],
   "source": [
    "# Retrieve all possible acquisition dates (keeping only YYYY-MM-DD)\n",
    "dates = np.unique([i[:10] for i in [x for x in SWOT_HR_df['time_str'] if x!='no_data']])\n",
    "\n",
    "# Create a new database for time series analysis with unique reach_ids\n",
    "SWOT_dn_trace_time = SWOT_dn_trace.set_index('reach_id').groupby(level=0) \\\n",
    "                                  .apply(lambda df: df.reset_index(drop=True)) \\\n",
    "                                  .unstack().sort_index(axis=1, level=1)\n",
    "\n",
    "SWOT_dn_trace_time.columns = ['{}_{}'.format(x[0],dates[x[1]]) for x in SWOT_dn_trace_time.columns]"
   ]
  },
  {
   "cell_type": "markdown",
   "id": "ef47e902",
   "metadata": {},
   "source": [
    "#### Plot a longitudinal profile for selected SWOT variable"
   ]
  },
  {
   "cell_type": "code",
   "execution_count": null,
   "id": "19408958",
   "metadata": {},
   "outputs": [],
   "source": [
    "# Explore variables you could choose to plot\n",
    "for var in [\"wse\",\"slope\",\"width\",\"len\", \"reach_q\"]:\n",
    "    print(SWOT_dn_trace.columns[SWOT_dn_trace.columns.str.contains(var)])"
   ]
  },
  {
   "cell_type": "code",
   "execution_count": null,
   "id": "2d39c3f7",
   "metadata": {},
   "outputs": [],
   "source": [
    "# Enter variable of interest for plotting\n",
    "varstr = \"wse\""
   ]
  },
  {
   "cell_type": "code",
   "execution_count": null,
   "id": "a9af87d4",
   "metadata": {
    "tags": []
   },
   "outputs": [],
   "source": [
    "# Find cumulative length on the longitudinal profile\n",
    "length_list    = np.nan_to_num([SWOT_dn_trace.p_length[SWOT_dn_trace.reach_id == rch].mean()/1000 for rch in rch_dn_list])\n",
    "cumlength_list = np.cumsum(length_list)\n",
    "\n",
    "## Plot a longitudinal profile from the downstream tracing database\n",
    "plt.figure(figsize=(12,8))\n",
    "for t in dates:\n",
    "    \n",
    "    # Store the quantity of interest (wse, width etc.) at time t\n",
    "    value = SWOT_dn_trace_time.loc[rch_dn_list,varstr+'_'+t]\n",
    "    \n",
    "    # Remove set negative values (bad observations) to NaN and forward fill NaNs\n",
    "    value[value < 0] = np.nan\n",
    "    value = value.ffill()\n",
    "    \n",
    "    # Plot the data\n",
    "    plt.plot(cumlength_list, value, label = varstr+'_'+t)\n",
    "    \n",
    "plt.xlabel('Downstream Distance (km)')\n",
    "plt.ylabel(varstr)\n",
    "plt.legend()"
   ]
  },
  {
   "cell_type": "markdown",
   "id": "bdf139fe",
   "metadata": {},
   "source": [
    "Note, we are not looking at the quality flags of the data with these profiles, it may be worth plotting the \"reach_q\" variable too to see the data quality per reach at the specific locations. For quality flags: 3=bad, 2=degraded, 1=suspect, 0=good. For this version of the data (2.0, Version C), the Quality flags are overly sensitive. See the [SWOT User Handbook](https://archive.podaac.earthdata.nasa.gov/podaac-ops-cumulus-docs/web-misc/swot_mission_docs/D-109532_SWOT_UserHandbook_20240502.pdf?_ga=2.166071870.1206626367.1721664595-1354658737.1715875596) for more information about this dataset.\n",
    "\n",
    "**Can you pinpoint the location of the dams and locks based on the water surface elevation profiles? How would we expect the longitudinal profile to look without these dams or locks?**"
   ]
  },
  {
   "cell_type": "code",
   "execution_count": null,
   "id": "0bb04b74",
   "metadata": {},
   "outputs": [],
   "source": []
  },
  {
   "cell_type": "code",
   "execution_count": null,
   "id": "b763c2ed",
   "metadata": {},
   "outputs": [],
   "source": []
  },
  {
   "cell_type": "markdown",
   "id": "44f75890",
   "metadata": {},
   "source": [
    "#### Additional Map that could be helpful: the longitudinal profile of selected SWOT variable spatially"
   ]
  },
  {
   "cell_type": "code",
   "execution_count": null,
   "id": "0bd900fe",
   "metadata": {},
   "outputs": [],
   "source": [
    "# Choose a date\n",
    "date = dates[0]"
   ]
  },
  {
   "cell_type": "code",
   "execution_count": null,
   "id": "000e1e49",
   "metadata": {
    "tags": []
   },
   "outputs": [],
   "source": [
    "#Set one column as the active geometry in the new database\n",
    "SWOT_dn_trace_time = SWOT_dn_trace_time.set_geometry(\"geometry_\"+date)\n",
    "\n",
    "#Set cleaner colorbar bounds for better visualization\n",
    "vmin = np.percentile([i for i in SWOT_dn_trace_time[varstr+'_'+date] if i>0],5)\n",
    "vmax = np.percentile([i for i in SWOT_dn_trace_time[varstr+'_'+date] if i>0],95)\n",
    "\n",
    "# Interactive map\n",
    "SWOT_dn_trace_time.explore(varstr+'_'+date,\n",
    "                           vmin = vmin,\n",
    "                           vmax = vmax,\n",
    "                           cmap = \"Blues\", #\"Blues\",\n",
    "                           control_scale = True,\n",
    "                           tooltip = varstr+'_'+date,  # show \"varstr+'_'+dates[0]\" value in tooltip (on hover)\n",
    "                           popup = True,  # show all values in popup (on click)\n",
    "                           #tiles = \"CartoDB positron\",  # use \"CartoDB positron\" tiles\n",
    "                           style_kwds=dict(weight=10)\n",
    "                          )"
   ]
  },
  {
   "cell_type": "markdown",
   "id": "8666b45b",
   "metadata": {},
   "source": [
    "The -999999999999 values are locations that particular SWOT pass (216 or 565) did not observe. SWOT passes are in two 50 km swaths with 20 km between them."
   ]
  },
  {
   "cell_type": "markdown",
   "id": "a9c588a7",
   "metadata": {},
   "source": [
    "## Question 2\n",
    "**The Mississippi River Basin has many man made reservoirs and natural lakes. Here, we'll compare water surface elevation variability from a reservoir (Willow Reservoir, ID: 7421108633) and a lake (Fence Lake, ID: 7421110322) in Wisconsin. SWOT observes reservoirs and lakes > 250 m x 250 m currently over the released observable record (July 2023 - present day). How do the water levels change over time and compare to each other?**\n",
    "\n",
    "> To find lake IDs, see the SWOT Prior Lake Database Layer in [Hydroweb.next](https://hydroweb.next.theia-land.fr/). The data for this exercise was obtained and consolidated into csv files per water body using [this notebook](https://podaac.github.io/tutorials/notebooks/GIS/SWOTshp_CSVconversion.html) in the PO.DAAC Cookbook. In the future (Sept. 2024), when [Hydrocron](https://podaac.github.io/hydrocron/intro.html) contains lake data, this tool would be the most efficient way to obtain SWOT csv files."
   ]
  },
  {
   "cell_type": "code",
   "execution_count": null,
   "id": "b95a2a14",
   "metadata": {},
   "outputs": [],
   "source": [
    "#Open csv files of SWOT time series data per water body\n",
    "reservoir_df = pd.read_csv('data_downloads/SWOTLake_7421108633.csv')\n",
    "lake_df = pd.read_csv('data_downloads/SWOTLake_7421110322.csv')\n",
    "\n",
    "#convert dates to datetime for better visualization\n",
    "reservoir_df['time_str'] = pd.to_datetime(reservoir_df['time_str'])\n",
    "lake_df['time_str'] = pd.to_datetime(lake_df['time_str'])"
   ]
  },
  {
   "cell_type": "code",
   "execution_count": null,
   "id": "8f21e2b7",
   "metadata": {},
   "outputs": [],
   "source": [
    "reservoir_df"
   ]
  },
  {
   "cell_type": "code",
   "execution_count": null,
   "id": "66226c67",
   "metadata": {},
   "outputs": [],
   "source": [
    "lake_df"
   ]
  },
  {
   "cell_type": "code",
   "execution_count": null,
   "id": "ed00550d",
   "metadata": {},
   "outputs": [],
   "source": [
    "## Plot the two wse timeseries together\n",
    "fig = plt.figure(figsize=(12,8))\n",
    "\n",
    "plt.subplot(211)\n",
    "plt.plot(reservoir_df['time_str'], reservoir_df['wse'], label = 'Reservoir', color='darkorange')\n",
    "plt.legend()\n",
    "\n",
    "plt.subplot(212)\n",
    "plt.plot(lake_df['time_str'], lake_df['wse'], label = 'Lake', color='blue')\n",
    "plt.xlabel('Time')\n",
    "plt.legend()\n",
    "fig.autofmt_xdate()\n",
    "fig.text(0.04, 0.5, 'Water Surface Elevation (m)', va='center', rotation='vertical')"
   ]
  },
  {
   "cell_type": "markdown",
   "id": "b6da5bb3",
   "metadata": {},
   "source": [
    "**How do the water levels change over time and compare to each other? Do your findings concur with this study that used ICESat-2 data? https://www.nature.com/articles/s41586-021-03262-3**\n",
    "\n",
    "\"Cooley and colleagues found that water levels in Earth’s lakes and ponds change about 8.6 inches between the wet and dry seasons. Meanwhile, human-managed reservoirs fluctuate by nearly four times that amount, rising and falling by an average of 2.8 feet from season to season.\" - from [article advertising paper](https://sustainability.stanford.edu/news/how-much-do-humans-influence-earths-water-levels)"
   ]
  },
  {
   "cell_type": "code",
   "execution_count": null,
   "id": "493927e5",
   "metadata": {},
   "outputs": [],
   "source": [
    "# Students compute statistics for this one year of SWOT data over this lake and reservoir, \n",
    "# chosing a method of comparison and making sure to note the caveats. General conclusions often should not be based on one case study, it's okay if results do not match.\n"
   ]
  },
  {
   "cell_type": "markdown",
   "id": "84804852",
   "metadata": {
    "tags": []
   },
   "source": [
    "## Question 3\n",
    "\n",
    "**Even if there are no reservoirs, dams or locks along a stretch of river, what other avenues can you see humans influencing the flow of  surface water? How about the water cycle in general? What other NASA datasets could be useful for analyzing human influence on the water cycle?**\n",
    "\n",
    "*Some Hints:*\n",
    "- *Think about land cover types and how water flows differently over each type*\n",
    "- *NASA has datasets for Soil Moisture, Groundwater, Precipitation, and other portions of the water cycle as well.*"
   ]
  },
  {
   "cell_type": "code",
   "execution_count": null,
   "id": "c24507a1",
   "metadata": {},
   "outputs": [],
   "source": []
  }
 ],
 "metadata": {
  "kernelspec": {
   "display_name": "Python 3 (ipykernel)",
   "language": "python",
   "name": "python3"
  },
  "language_info": {
   "codemirror_mode": {
    "name": "ipython",
    "version": 3
   },
   "file_extension": ".py",
   "mimetype": "text/x-python",
   "name": "python",
   "nbconvert_exporter": "python",
   "pygments_lexer": "ipython3",
   "version": "3.10.14"
  }
 },
 "nbformat": 4,
 "nbformat_minor": 5
}
