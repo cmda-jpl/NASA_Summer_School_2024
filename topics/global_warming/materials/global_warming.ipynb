{
 "cells": [
  {
   "cell_type": "markdown",
   "metadata": {},
   "source": [
    "# Topic 1: Where is the global warming?"
   ]
  },
  {
   "cell_type": "markdown",
   "metadata": {},
   "source": [
    "### Question 1: Calculate the global net radiative flux imbalance at TOA"
   ]
  },
  {
   "cell_type": "markdown",
   "metadata": {},
   "source": [
    "Net radiative flux at TOA is calculated from:\n",
    "\n",
    "$$\\Delta F=F^{\\downarrow}_{SW} - F^{\\uparrow}_{SW} - F^{\\uparrow}_{LW}$$\n",
    "\n",
    "Where $F^{\\downarrow}_{SW}-F^{\\uparrow}_{SW}$ is the net incoming shortwave radiation and $F^{\\uparrow}_{LW}$ is the outgoing longwave radiation at TOA respectively. "
   ]
  },
  {
   "cell_type": "markdown",
   "metadata": {},
   "source": [
    "First, let's load each of these from the CERES satellite instrument data:"
   ]
  },
  {
   "cell_type": "code",
   "execution_count": null,
   "metadata": {},
   "outputs": [],
   "source": [
    "import xarray as xr\n",
    "import numpy as np\n",
    "import matplotlib.pyplot as plt\n",
    "from cmda_utils import plot_map\n",
    "\n",
    "rsdt = xr.open_dataset('/home/jovyan/cmda_data/cmip5/nasa/ceres/nasa_ceres_rsdt_200003-201812.nc').mean('time').rsdt\n",
    "rsut = xr.open_dataset('/home/jovyan/cmda_data/cmip5/nasa/ceres/nasa_ceres_rsut_200003-201812.nc').mean('time').rsut\n",
    "rlut = xr.open_dataset('/home/jovyan/cmda_data/cmip5/nasa/ceres/nasa_ceres_rlut_200003-201812.nc').mean('time').rlut"
   ]
  },
  {
   "cell_type": "markdown",
   "metadata": {},
   "source": [
    "The net radiative flux is therefore:"
   ]
  },
  {
   "cell_type": "code",
   "execution_count": null,
   "metadata": {},
   "outputs": [],
   "source": [
    "def calNetRad(rsdt, rsut, rlut):\n",
    "    return(rsdt - rsut - rlut)"
   ]
  },
  {
   "cell_type": "code",
   "execution_count": null,
   "metadata": {},
   "outputs": [],
   "source": [
    "rad_net = calNetRad(rsdt, rsut, rlut)"
   ]
  },
  {
   "cell_type": "code",
   "execution_count": null,
   "metadata": {},
   "outputs": [],
   "source": [
    "plot_map(rsdt, 'CERES Incident SW Radiation at TOA (2000-2018)', 'W/m^2')"
   ]
  },
  {
   "cell_type": "code",
   "execution_count": null,
   "metadata": {},
   "outputs": [],
   "source": [
    "plot_map(rsut, 'CERES Outgoing SW Radiation at TOA (2000-2018)', 'W/m^2')"
   ]
  },
  {
   "cell_type": "code",
   "execution_count": null,
   "metadata": {},
   "outputs": [],
   "source": [
    "plot_map(rlut, 'CERES Outgoing LW Radiation at TOA (2000-2018)', 'W/m^2')"
   ]
  },
  {
   "cell_type": "code",
   "execution_count": null,
   "metadata": {},
   "outputs": [],
   "source": [
    "plot_map(rad_net, 'CERES Net Radiation at TOA (2000-2018)', 'W/m^2')"
   ]
  },
  {
   "cell_type": "markdown",
   "metadata": {},
   "source": [
    "### Now we average the net radiation flux globally in space to obtain the Earth's global energy imbalance at TOA. "
   ]
  },
  {
   "cell_type": "code",
   "execution_count": null,
   "metadata": {},
   "outputs": [],
   "source": [
    "answer = rad_net.weighted(np.cos(np.deg2rad(rad_net.lat))).mean(('lon', 'lat'))"
   ]
  },
  {
   "cell_type": "code",
   "execution_count": null,
   "metadata": {},
   "outputs": [],
   "source": [
    "print('We find that Earth\\'s energy imbalance using the CERES data from 2000 to 2018 is', f\"{answer.values:.4f}\", '(W/m\\u00b2).')"
   ]
  },
  {
   "cell_type": "code",
   "execution_count": null,
   "metadata": {},
   "outputs": [],
   "source": []
  }
 ],
 "metadata": {
  "kernelspec": {
   "display_name": "Python 3 (ipykernel)",
   "language": "python",
   "name": "python3"
  },
  "language_info": {
   "codemirror_mode": {
    "name": "ipython",
    "version": 3
   },
   "file_extension": ".py",
   "mimetype": "text/x-python",
   "name": "python",
   "nbconvert_exporter": "python",
   "pygments_lexer": "ipython3",
   "version": "3.10.14"
  }
 },
 "nbformat": 4,
 "nbformat_minor": 4
}
