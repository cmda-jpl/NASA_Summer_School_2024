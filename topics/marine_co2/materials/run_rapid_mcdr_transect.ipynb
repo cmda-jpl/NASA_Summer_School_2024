{
 "cells": [
  {
   "cell_type": "markdown",
   "metadata": {},
   "source": [
    "## Run rapid-mcdr over all trajectory files along the transect in Pacific Ocean\n",
    "- Perform baseline and sensitivity simulations (from Suselj et al., 2024)\n",
    "- Please do not save more than 2 full simulation results, otherwise you will run out of space.\n",
    "- replace `path_out` with path to your local workspace\n",
    "- IF YOU DECIDE TO RUN NEW EXPERIMENTS, PLEASE CONSULT ALEX AND/OR KAY ON HOW AND WHERE TO SAVE OUTPUT DATA!\n"
   ]
  },
  {
   "cell_type": "code",
   "execution_count": 1,
   "metadata": {},
   "outputs": [],
   "source": [
    "import xarray as xr\n",
    "import numpy as np\n",
    "import os\n",
    "# rapid-mcdr model\n",
    "from model_v1 import rapid_mcdr_model"
   ]
  },
  {
   "cell_type": "markdown",
   "metadata": {},
   "source": [
    "### Define paths to model inputs and outputs"
   ]
  },
  {
   "cell_type": "code",
   "execution_count": 2,
   "metadata": {},
   "outputs": [],
   "source": [
    "# paths to input and output datasets\n",
    "\n",
    "path_in='/home/jovyan/shared/NASA_Summer_School_2024/marine_co2/materials/data/rapid_mcdr_inputs/'\n",
    "\n",
    "# SET PATH TO YOUR LOCAL DIRECTORY\n",
    "path_out='/home/jovyan/shared/NASA_Summer_School_2024/marine_co2/materials/data/rapid_mcdr_outputs/'\n",
    "# list file numbers - it's fine to include files that do not exist \n",
    "num_files=range(150)"
   ]
  },
  {
   "cell_type": "markdown",
   "metadata": {},
   "source": [
    "### Define function to run rapid-mCDR over all files in `path_in`\n",
    "- Each file in `path_in` includes a time series of rapid-mCDR forcing for a single location along the transect."
   ]
  },
  {
   "cell_type": "code",
   "execution_count": 3,
   "metadata": {},
   "outputs": [],
   "source": [
    "def run_rapid_mcdr_model(num_files=range(8),season='yearly',no_seaice=False,zero_w=False,zero_diff=False):\n",
    "    results=[]\n",
    "\n",
    "    for nf in num_files:\n",
    "       # display(nf)\n",
    "        num_file=str(nf)\n",
    "        data_path=path_in+'model_forcing_data_daily_'+str(num_file)+'.nc'\n",
    "        if os.path.exists(data_path):\n",
    "            \n",
    "            forc_dta=xr.load_dataset(data_path)\n",
    "\n",
    "            forc_dta['area']=(('time'),np.zeros(len(forc_dta.time)))\n",
    "            forc_dta['alk_forcing']=(('time'),np.zeros(len(forc_dta.time)))\n",
    "\n",
    "            # the amount of Alk forcing mol/s and area \n",
    "            # -- rapid-mcdr is linear to those variables and the results will not be sensitive to the values\n",
    "            alkforc=392098334\n",
    "            forc_dta['area'][:]=267000000000\n",
    "            \n",
    "            if season=='yearly':\n",
    "                forc_dta['alk_forcing'][0:365]=alkforc\n",
    "            elif season=='january':\n",
    "                forc_dta['alk_forcing'][0:31]=alkforc\n",
    "            elif season=='july':\n",
    "                forc_dta['alk_forcing'][182:182+31]=alkforc    \n",
    "\n",
    "            if zero_diff:\n",
    "                forc_dta['k_diff']=forc_dta['k_diff']*0     \n",
    "            if zero_w:    \n",
    "                forc_dta['w']=forc_dta['w']*0    \n",
    "            if no_seaice:\n",
    "                forc_dta['siarea']=forc_dta['siarea']*0         \n",
    "                \n",
    "            res=rapid_mcdr_model(forc_dta)\n",
    "            res['efficiency']=(-res['f_co2']/res.alk_forcing.sum()*res.area/res.cdr_potential).cumsum(dim='time')\n",
    "            forc_dta['potential']=-(forc_dta.dpco2_ov_dalk/forc_dta.dpco2_ov_ddic)\n",
    "            \n",
    "            # rename forcing data\n",
    "            forc_dta=forc_dta.rename({'dic':'dic_forc','alk':'alk_forc'})\n",
    "            results_one=xr.merge([res,forc_dta])\n",
    "            results_one=results_one.expand_dims(lat_sim=[forc_dta.lat.mean()])\n",
    "\n",
    "            if not results:\n",
    "                results=results_one\n",
    "            else:\n",
    "                results=xr.concat([results,results_one],dim='lat_sim')\n",
    "        else:\n",
    "            print('data does not exist: '+data_path)\n",
    "    return results   \n"
   ]
  },
  {
   "cell_type": "markdown",
   "metadata": {},
   "source": [
    "## Run rapid-mcdr for different deployments and we save results as netcdf files\n",
    "\n",
    "Output is a single file per deployment strategy. Here we run, the following experiments:\n",
    "\n",
    "      1. OAE deployed from January 1 1995 -- December 31 1995 ... results are saved in file `rapid_mcdr_results.ipynb`\n",
    "      2. OAE deployed from January 1 1995 -- January 31 1995 ...  results are saved in file `rapid_mcdr_results_jan.ipynb`\n",
    "      3. OAE deployed from July 1 1995 -- July 31 1995 ...  results are saved in file `rapid_mcdr_results_jul.ipynb`\n",
    "\n",
    "### PLEASE DO NOT RERUN THESE EXPERIMENTS - YOU WILL RUN OUT OF STORAGE SPACE"
   ]
  },
  {
   "cell_type": "code",
   "execution_count": 4,
   "metadata": {},
   "outputs": [
    {
     "name": "stdout",
     "output_type": "stream",
     "text": [
      "data does not exist: data/rapid_mcdr_inputs/model_forcing_data_daily_0.nc\n",
      "data does not exist: data/rapid_mcdr_inputs/model_forcing_data_daily_1.nc\n",
      "data does not exist: data/rapid_mcdr_inputs/model_forcing_data_daily_2.nc\n",
      "data does not exist: data/rapid_mcdr_inputs/model_forcing_data_daily_136.nc\n",
      "data does not exist: data/rapid_mcdr_inputs/model_forcing_data_daily_137.nc\n",
      "data does not exist: data/rapid_mcdr_inputs/model_forcing_data_daily_138.nc\n",
      "data does not exist: data/rapid_mcdr_inputs/model_forcing_data_daily_139.nc\n",
      "data does not exist: data/rapid_mcdr_inputs/model_forcing_data_daily_140.nc\n",
      "data does not exist: data/rapid_mcdr_inputs/model_forcing_data_daily_141.nc\n",
      "data does not exist: data/rapid_mcdr_inputs/model_forcing_data_daily_142.nc\n",
      "data does not exist: data/rapid_mcdr_inputs/model_forcing_data_daily_143.nc\n",
      "data does not exist: data/rapid_mcdr_inputs/model_forcing_data_daily_144.nc\n",
      "data does not exist: data/rapid_mcdr_inputs/model_forcing_data_daily_145.nc\n",
      "data does not exist: data/rapid_mcdr_inputs/model_forcing_data_daily_146.nc\n",
      "data does not exist: data/rapid_mcdr_inputs/model_forcing_data_daily_147.nc\n",
      "data does not exist: data/rapid_mcdr_inputs/model_forcing_data_daily_148.nc\n",
      "data does not exist: data/rapid_mcdr_inputs/model_forcing_data_daily_149.nc\n",
      "data does not exist: data/rapid_mcdr_inputs/model_forcing_data_daily_0.nc\n",
      "data does not exist: data/rapid_mcdr_inputs/model_forcing_data_daily_1.nc\n",
      "data does not exist: data/rapid_mcdr_inputs/model_forcing_data_daily_2.nc\n",
      "data does not exist: data/rapid_mcdr_inputs/model_forcing_data_daily_136.nc\n",
      "data does not exist: data/rapid_mcdr_inputs/model_forcing_data_daily_137.nc\n",
      "data does not exist: data/rapid_mcdr_inputs/model_forcing_data_daily_138.nc\n",
      "data does not exist: data/rapid_mcdr_inputs/model_forcing_data_daily_139.nc\n",
      "data does not exist: data/rapid_mcdr_inputs/model_forcing_data_daily_140.nc\n",
      "data does not exist: data/rapid_mcdr_inputs/model_forcing_data_daily_141.nc\n",
      "data does not exist: data/rapid_mcdr_inputs/model_forcing_data_daily_142.nc\n",
      "data does not exist: data/rapid_mcdr_inputs/model_forcing_data_daily_143.nc\n",
      "data does not exist: data/rapid_mcdr_inputs/model_forcing_data_daily_144.nc\n",
      "data does not exist: data/rapid_mcdr_inputs/model_forcing_data_daily_145.nc\n",
      "data does not exist: data/rapid_mcdr_inputs/model_forcing_data_daily_146.nc\n",
      "data does not exist: data/rapid_mcdr_inputs/model_forcing_data_daily_147.nc\n",
      "data does not exist: data/rapid_mcdr_inputs/model_forcing_data_daily_148.nc\n",
      "data does not exist: data/rapid_mcdr_inputs/model_forcing_data_daily_149.nc\n",
      "data does not exist: data/rapid_mcdr_inputs/model_forcing_data_daily_0.nc\n",
      "data does not exist: data/rapid_mcdr_inputs/model_forcing_data_daily_1.nc\n",
      "data does not exist: data/rapid_mcdr_inputs/model_forcing_data_daily_2.nc\n",
      "data does not exist: data/rapid_mcdr_inputs/model_forcing_data_daily_136.nc\n",
      "data does not exist: data/rapid_mcdr_inputs/model_forcing_data_daily_137.nc\n",
      "data does not exist: data/rapid_mcdr_inputs/model_forcing_data_daily_138.nc\n",
      "data does not exist: data/rapid_mcdr_inputs/model_forcing_data_daily_139.nc\n",
      "data does not exist: data/rapid_mcdr_inputs/model_forcing_data_daily_140.nc\n",
      "data does not exist: data/rapid_mcdr_inputs/model_forcing_data_daily_141.nc\n",
      "data does not exist: data/rapid_mcdr_inputs/model_forcing_data_daily_142.nc\n",
      "data does not exist: data/rapid_mcdr_inputs/model_forcing_data_daily_143.nc\n",
      "data does not exist: data/rapid_mcdr_inputs/model_forcing_data_daily_144.nc\n",
      "data does not exist: data/rapid_mcdr_inputs/model_forcing_data_daily_145.nc\n",
      "data does not exist: data/rapid_mcdr_inputs/model_forcing_data_daily_146.nc\n",
      "data does not exist: data/rapid_mcdr_inputs/model_forcing_data_daily_147.nc\n",
      "data does not exist: data/rapid_mcdr_inputs/model_forcing_data_daily_148.nc\n",
      "data does not exist: data/rapid_mcdr_inputs/model_forcing_data_daily_149.nc\n"
     ]
    }
   ],
   "source": [
    "# compute and save results to file    \n",
    "results=run_rapid_mcdr_model(num_files=num_files)\n",
    "results.to_netcdf(path_out+'rapid_mcdr_results.nc')\n",
    "\n",
    "# set w to zero\n",
    "#results_nodiff=run_rapid_mcdr_model(num_files=num_files,zero_diff=True)\n",
    "#results_nodiff.to_netcdf(path_out+'rapid_mcdr_results_zero_diff.nc')\n",
    "\n",
    "#  set diffusivity to zero\n",
    "#results_now=run_rapid_mcdr_model(num_files=num_files,zero_w=True)\n",
    "#results_now.to_netcdf(path_out+'rapid_mcdr_results_zero_w.nc')\n",
    "\n",
    "# set sea-ice to zero\n",
    "#results_noseaice=run_rapid_mcdr_model(num_files=num_files,no_seaice=True)\n",
    "#results_noseaice.to_netcdf(path_out+'rapid_mcdr_results_zero_seaice.nc')\n",
    "\n",
    "# january and july deployment\n",
    "results_jan=run_rapid_mcdr_model(num_files=num_files,season='january')\n",
    "results_jan.to_netcdf(path_out+'rapid_mcdr_results_jan.nc')\n",
    "results_jul=run_rapid_mcdr_model(num_files=num_files,season='july')\n",
    "results_jul.to_netcdf(path_out+'rapid_mcdr_results_july.nc')"
   ]
  }
 ],
 "metadata": {
  "kernelspec": {
   "display_name": "Python 3 (ipykernel)",
   "language": "python",
   "name": "python3"
  },
  "language_info": {
   "codemirror_mode": {
    "name": "ipython",
    "version": 3
   },
   "file_extension": ".py",
   "mimetype": "text/x-python",
   "name": "python",
   "nbconvert_exporter": "python",
   "pygments_lexer": "ipython3",
   "version": "3.10.14"
  }
 },
 "nbformat": 4,
 "nbformat_minor": 4
}
